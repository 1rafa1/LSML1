{
 "cells": [
  {
   "cell_type": "markdown",
   "id": "debbed21-e72b-454a-b9b5-4b3c7ca75036",
   "metadata": {},
   "source": [
    "Importing the Libraries"
   ]
  },
  {
   "cell_type": "code",
   "execution_count": 1,
   "id": "bb1538a7-816f-4c22-ba68-20f4ab6fdbbb",
   "metadata": {
    "tags": []
   },
   "outputs": [
    {
     "name": "stdout",
     "output_type": "stream",
     "text": [
      "Collecting pyspark==3.2.1\n",
      "  Downloading pyspark-3.2.1.tar.gz (281.4 MB)\n",
      "\u001b[2K     \u001b[90m━━━━━━━━━━━━━━━━━━━━━━━━━━━━━━━━━━━━━━━\u001b[0m \u001b[32m281.4/281.4 MB\u001b[0m \u001b[31m1.5 MB/s\u001b[0m eta \u001b[36m0:00:00\u001b[0m00:01\u001b[0m00:01\u001b[0m\n",
      "\u001b[?25h  Preparing metadata (setup.py) ... \u001b[?25ldone\n",
      "\u001b[?25hCollecting py4j==0.10.9.3\n",
      "  Downloading py4j-0.10.9.3-py2.py3-none-any.whl (198 kB)\n",
      "\u001b[2K     \u001b[90m━━━━━━━━━━━━━━━━━━━━━━━━━━━━━━━━━━━━━━━\u001b[0m \u001b[32m199.0/199.0 kB\u001b[0m \u001b[31m4.9 MB/s\u001b[0m eta \u001b[36m0:00:00\u001b[0m00:01\u001b[0m\n",
      "\u001b[?25hBuilding wheels for collected packages: pyspark\n",
      "  Building wheel for pyspark (setup.py) ... \u001b[?25ldone\n",
      "\u001b[?25h  Created wheel for pyspark: filename=pyspark-3.2.1-py2.py3-none-any.whl size=281853627 sha256=25bc97f58507099b7743d7879ca8b62c9f43379f641becba6d2d5c664d4728d3\n",
      "  Stored in directory: /home/jovyan/.cache/pip/wheels/15/97/bd/52908574a60b5f8e3dc4dc5a0b5be8a59ac20986ee51c2611b\n",
      "Successfully built pyspark\n",
      "Installing collected packages: py4j, pyspark\n",
      "  Attempting uninstall: py4j\n",
      "    Found existing installation: py4j 0.10.9.7\n",
      "    Uninstalling py4j-0.10.9.7:\n",
      "      Successfully uninstalled py4j-0.10.9.7\n",
      "  Attempting uninstall: pyspark\n",
      "    Found existing installation: pyspark 3.5.0\n",
      "    Uninstalling pyspark-3.5.0:\n",
      "      Successfully uninstalled pyspark-3.5.0\n",
      "Successfully installed py4j-0.10.9.3 pyspark-3.2.1\n",
      "Note: you may need to restart the kernel to use updated packages.\n"
     ]
    }
   ],
   "source": [
    "pip install pyspark==3.2.1"
   ]
  },
  {
   "cell_type": "code",
   "execution_count": 2,
   "id": "235217a5-592c-43c5-b7d8-28906b57b101",
   "metadata": {},
   "outputs": [],
   "source": [
    "import time\n",
    "import pyspark.sql.functions as f\n",
    "\n",
    "from pyspark import SparkContext, SparkConf\n",
    "from pyspark.sql import SparkSession\n",
    "from pyspark.sql import Row\n",
    "from pyspark.sql.types import *\n",
    "\n",
    "from pyspark.sql.functions import udf\n",
    "from pyspark.sql.functions import array_contains\n",
    "from pyspark.sql.functions import unix_timestamp\n",
    "from pyspark.sql.functions import desc\n",
    "\n",
    "from itertools import islice"
   ]
  },
  {
   "cell_type": "markdown",
   "id": "75136e83-10fb-4c82-8e66-fc9d6ddd5b04",
   "metadata": {},
   "source": [
    "Reading the file from HDFS"
   ]
  },
  {
   "cell_type": "markdown",
   "id": "ee26efe3-6a96-407e-9904-94c9ca8a8a54",
   "metadata": {
    "tags": []
   },
   "source": [
    "!spark-shell --conf spark.ui.port=14058 --master yarn --deploy-mode client\n",
    "!set spark.port.maxRetries=30\n"
   ]
  },
  {
   "cell_type": "markdown",
   "id": "d9f8c499-b926-413f-a8c7-6007f0e9d785",
   "metadata": {
    "tags": []
   },
   "source": [
    "spark = SparkSession \\\n",
    "    .builder \\\n",
    "    .appName(\"Python Spark Assignment\") \\\n",
    "    .config(\"spark.some.config.option\", \"some-value\") \\\n",
    "    .getOrCreate()"
   ]
  },
  {
   "cell_type": "code",
   "execution_count": 31,
   "id": "6e207419-574d-45f8-91c6-e654a8b69aad",
   "metadata": {},
   "outputs": [],
   "source": [
    "spark = SparkSession \\\n",
    "    .builder \\\n",
    "    .appName(\"Python Spark Assignment\") \\\n",
    "    .config(\"spark.some.config.option\", \"some-value\") \\\n",
    "    .getOrCreate()\n",
    "\n",
    "sc = spark.sparkContext\n",
    "rdd = sc.textFile('hdfs:/data/clickstream.csv')"
   ]
  },
  {
   "cell_type": "markdown",
   "id": "3965a53a-6229-4722-9067-0fabd0e88581",
   "metadata": {},
   "source": [
    "Removing header from the file and parsing it"
   ]
  },
  {
   "cell_type": "code",
   "execution_count": 32,
   "id": "fa7dcd6e-7ba0-4804-ac69-347069df6df1",
   "metadata": {},
   "outputs": [
    {
     "name": "stderr",
     "output_type": "stream",
     "text": [
      "                                                                                \r"
     ]
    },
    {
     "data": {
      "text/plain": [
       "[['562', '507', 'page', 'main', '1695584127'],\n",
       " ['562', '507', 'event', 'main', '1695584134'],\n",
       " ['562', '507', 'event', 'main', '1695584144'],\n",
       " ['562', '507', 'event', 'main', '1695584147'],\n",
       " ['562', '507', 'wNaxLlerrorU', 'main', '1695584154']]"
      ]
     },
     "execution_count": 32,
     "metadata": {},
     "output_type": "execute_result"
    }
   ],
   "source": [
    "rdd = rdd.mapPartitionsWithIndex(\n",
    "    lambda idx, it: islice(it, 1, None) if idx == 0 else it \n",
    ")\n",
    "rdd = rdd.map(lambda l: l.split('\\t'))\n",
    "rdd.take(5)"
   ]
  },
  {
   "cell_type": "code",
   "execution_count": null,
   "id": "cb0b81fa-e23a-4018-a7c2-ed94938e4c47",
   "metadata": {},
   "outputs": [],
   "source": []
  },
  {
   "cell_type": "markdown",
   "id": "aacf6073-c516-4326-a12c-3bbd196b4c58",
   "metadata": {},
   "source": [
    "Schema for the data"
   ]
  },
  {
   "cell_type": "code",
   "execution_count": 33,
   "id": "e9b87762-e3d2-4242-be5e-517a9c437575",
   "metadata": {},
   "outputs": [
    {
     "data": {
      "text/plain": [
       "[Row(session_id=507562, event_type='page', event_page='main', timestamp=1695584127),\n",
       " Row(session_id=507562, event_type='event', event_page='main', timestamp=1695584134),\n",
       " Row(session_id=507562, event_type='event', event_page='main', timestamp=1695584144),\n",
       " Row(session_id=507562, event_type='event', event_page='main', timestamp=1695584147),\n",
       " Row(session_id=507562, event_type='wNaxLlerrorU', event_page='main', timestamp=1695584154)]"
      ]
     },
     "execution_count": 33,
     "metadata": {},
     "output_type": "execute_result"
    }
   ],
   "source": [
    "rdd = rdd.map(lambda p: Row(session_id=int(str(p[1]) + str(p[0])), event_type=str(p[2]), event_page=str(p[3]), timestamp=int(p[4])))\n",
    "rdd.take(5)"
   ]
  },
  {
   "cell_type": "markdown",
   "id": "92cc49f9-0c9c-4736-90d6-adb0a879bfee",
   "metadata": {},
   "source": [
    "Creating DataFrame"
   ]
  },
  {
   "cell_type": "code",
   "execution_count": 34,
   "id": "3c289d49-6a51-48d0-b6db-1826d9396540",
   "metadata": {},
   "outputs": [
    {
     "name": "stderr",
     "output_type": "stream",
     "text": [
      "                                                                                \r"
     ]
    },
    {
     "name": "stdout",
     "output_type": "stream",
     "text": [
      "+----------+------------+----------+----------+\n",
      "|session_id|  event_type|event_page| timestamp|\n",
      "+----------+------------+----------+----------+\n",
      "|    507562|        page|      main|1695584127|\n",
      "|    507562|       event|      main|1695584134|\n",
      "|    507562|       event|      main|1695584144|\n",
      "|    507562|       event|      main|1695584147|\n",
      "|    507562|wNaxLlerrorU|      main|1695584154|\n",
      "+----------+------------+----------+----------+\n",
      "only showing top 5 rows\n",
      "\n"
     ]
    },
    {
     "name": "stderr",
     "output_type": "stream",
     "text": [
      "                                                                                \r"
     ]
    },
    {
     "data": {
      "text/plain": [
       "1000000"
      ]
     },
     "execution_count": 34,
     "metadata": {},
     "output_type": "execute_result"
    }
   ],
   "source": [
    "df = spark.createDataFrame(rdd)\n",
    "df.createOrReplaceTempView('clickstream')\n",
    "df.cache()\n",
    "df.show(5)\n",
    "df.count()"
   ]
  },
  {
   "cell_type": "markdown",
   "id": "4725a459-a79d-4c5f-8538-4918b68ed827",
   "metadata": {},
   "source": [
    "Removing Events"
   ]
  },
  {
   "cell_type": "code",
   "execution_count": 35,
   "id": "b9b7a0d0-a3e5-470c-b5d4-6f70b8ebb121",
   "metadata": {},
   "outputs": [
    {
     "name": "stdout",
     "output_type": "stream",
     "text": [
      "+----------+------------+----------+----------+\n",
      "|session_id|  event_type|event_page| timestamp|\n",
      "+----------+------------+----------+----------+\n",
      "|    507562|        page|      main|1695584127|\n",
      "|    507562|wNaxLlerrorU|      main|1695584154|\n",
      "|    507562|        page|    rabota|1695584166|\n",
      "|    507562|        page|      main|1695584194|\n",
      "|    507562|        page|     bonus|1695584221|\n",
      "+----------+------------+----------+----------+\n",
      "only showing top 5 rows\n",
      "\n"
     ]
    },
    {
     "name": "stderr",
     "output_type": "stream",
     "text": [
      "                                                                                \r"
     ]
    },
    {
     "data": {
      "text/plain": [
       "421610"
      ]
     },
     "execution_count": 35,
     "metadata": {},
     "output_type": "execute_result"
    }
   ],
   "source": [
    "df = df[df['event_type'] != 'event']\n",
    "df.show(5)\n",
    "df.count()"
   ]
  },
  {
   "cell_type": "code",
   "execution_count": 36,
   "id": "c39d5a29-0a08-4a4e-81a8-2ef4a2dbec0b",
   "metadata": {},
   "outputs": [
    {
     "name": "stderr",
     "output_type": "stream",
     "text": [
      "                                                                                \r"
     ]
    },
    {
     "name": "stdout",
     "output_type": "stream",
     "text": [
      "+----------+----------+----------+----------+\n",
      "|session_id|event_type|event_page| timestamp|\n",
      "+----------+----------+----------+----------+\n",
      "|       412|      page|      main|1695726743|\n",
      "|       412|      page|   digital|1695728906|\n",
      "|       412|      page|      news|1695729251|\n",
      "|       412|      page|     vklad|1695730809|\n",
      "|       412|      page|    rabota|1695733354|\n",
      "|       412|      page|     bonus|1695734278|\n",
      "|       539|      page|      main|1695794508|\n",
      "|       539|      page|    rabota|1695795361|\n",
      "|       539|      page|  internet|1695796728|\n",
      "|       539|      page|      main|1695796979|\n",
      "|       539|      page|  internet|1695797328|\n",
      "|       539|      page|      news|1695799269|\n",
      "|       539|      page|     vklad|1695800281|\n",
      "|       579|      page|      main|1696560729|\n",
      "|       579|      page|   archive|1696561214|\n",
      "+----------+----------+----------+----------+\n",
      "only showing top 15 rows\n",
      "\n"
     ]
    },
    {
     "data": {
      "text/plain": [
       "421610"
      ]
     },
     "execution_count": 36,
     "metadata": {},
     "output_type": "execute_result"
    }
   ],
   "source": [
    "df = df.orderBy(['session_id', 'timestamp'], ascending=True)\n",
    "df.show(15)\n",
    "df.count()"
   ]
  },
  {
   "cell_type": "code",
   "execution_count": 37,
   "id": "e27c9a2d-a97c-47a7-ba89-aa56b6df13cc",
   "metadata": {},
   "outputs": [
    {
     "name": "stderr",
     "output_type": "stream",
     "text": [
      "                                                                                \r"
     ]
    },
    {
     "data": {
      "text/plain": [
       "48489"
      ]
     },
     "execution_count": 37,
     "metadata": {},
     "output_type": "execute_result"
    }
   ],
   "source": [
    "df.groupby('session_id').count().count()"
   ]
  },
  {
   "cell_type": "code",
   "execution_count": 38,
   "id": "3a327bf9-1d35-4937-a795-5ce3f44ffe4f",
   "metadata": {},
   "outputs": [
    {
     "name": "stderr",
     "output_type": "stream",
     "text": [
      "[Stage 23:>                                                         (0 + 1) / 1]\r"
     ]
    },
    {
     "name": "stdout",
     "output_type": "stream",
     "text": [
      "+----------+-----+\n",
      "|session_id|count|\n",
      "+----------+-----+\n",
      "|    333645|   92|\n",
      "|   1953050|   86|\n",
      "|   8434802|   82|\n",
      "|    498217|   79|\n",
      "|   9523932|   78|\n",
      "|    781018|   77|\n",
      "|   9494382|   73|\n",
      "|   7364134|   72|\n",
      "|    414869|   68|\n",
      "|   8942108|   67|\n",
      "+----------+-----+\n",
      "only showing top 10 rows\n",
      "\n"
     ]
    },
    {
     "name": "stderr",
     "output_type": "stream",
     "text": [
      "                                                                                \r"
     ]
    }
   ],
   "source": [
    "df.groupby('session_id').count().orderBy('count', ascending=False).show(10)"
   ]
  },
  {
   "cell_type": "code",
   "execution_count": 39,
   "id": "c32b78b5-c4e8-4510-9e30-70e533ace612",
   "metadata": {},
   "outputs": [
    {
     "data": {
      "text/plain": [
       "0"
      ]
     },
     "execution_count": 39,
     "metadata": {},
     "output_type": "execute_result"
    }
   ],
   "source": [
    "df[df['session_id'] == 1367635].count()"
   ]
  },
  {
   "cell_type": "markdown",
   "id": "a4f88ea2-3928-4a4c-9edf-035dd11b87a3",
   "metadata": {},
   "source": [
    "Calculating the result"
   ]
  },
  {
   "cell_type": "code",
   "execution_count": 40,
   "id": "4c3c99b7-b2d2-4b17-b980-68d9c222b645",
   "metadata": {},
   "outputs": [
    {
     "name": "stderr",
     "output_type": "stream",
     "text": [
      "                                                                                \r"
     ]
    },
    {
     "data": {
      "text/plain": [
       "421610"
      ]
     },
     "execution_count": 40,
     "metadata": {},
     "output_type": "execute_result"
    }
   ],
   "source": [
    "dataCollect = df.collect()\n",
    "len(dataCollect)"
   ]
  },
  {
   "cell_type": "code",
   "execution_count": 41,
   "id": "6c4b625c-d30f-4da0-8c6d-91d28e3d99f8",
   "metadata": {},
   "outputs": [],
   "source": [
    "result = {}"
   ]
  },
  {
   "cell_type": "code",
   "execution_count": 42,
   "id": "9359bd62-ab6a-4531-aaf0-822de2a1cf81",
   "metadata": {},
   "outputs": [],
   "source": [
    "for row in dataCollect:\n",
    "    session_id = row['session_id']\n",
    "    event_type = row['event_type']\n",
    "    event_page = row['event_page']\n",
    "    \n",
    "    if session_id not in result:\n",
    "        result[session_id] = []\n",
    "        \n",
    "    if event_type == 'page':\n",
    "        result[session_id].append(event_page)\n",
    "    else:\n",
    "        result[session_id].append('error')"
   ]
  },
  {
   "cell_type": "code",
   "execution_count": 43,
   "id": "6ea0ebff-171e-4892-88a1-f5f549b068a5",
   "metadata": {},
   "outputs": [
    {
     "data": {
      "text/plain": [
       "48489"
      ]
     },
     "execution_count": 43,
     "metadata": {},
     "output_type": "execute_result"
    }
   ],
   "source": [
    "len(result)"
   ]
  },
  {
   "cell_type": "code",
   "execution_count": 44,
   "id": "dfed22f5-084e-4f07-afca-d237ef7cdb05",
   "metadata": {},
   "outputs": [],
   "source": [
    "rows = []"
   ]
  },
  {
   "cell_type": "code",
   "execution_count": 45,
   "id": "6bf23937-0306-4852-883b-f1fa8652856d",
   "metadata": {},
   "outputs": [],
   "source": [
    "for k, v in result.items():\n",
    "    # create route\n",
    "    route = []\n",
    "    for page in v:\n",
    "        if page == 'error': break\n",
    "        if len(route) > 0:\n",
    "            if route[-1] == page:\n",
    "                continue\n",
    "        route.append(page)\n",
    "        \n",
    "    route = '-'.join(route)\n",
    "        \n",
    "    # Add session_id, route to DataFrame\n",
    "    rows.append(Row(k, route))"
   ]
  },
  {
   "cell_type": "code",
   "execution_count": 46,
   "id": "d296a09b-ff1b-414e-9ac7-8545f612f491",
   "metadata": {},
   "outputs": [
    {
     "data": {
      "text/plain": [
       "48489"
      ]
     },
     "execution_count": 46,
     "metadata": {},
     "output_type": "execute_result"
    }
   ],
   "source": [
    "len(rows)"
   ]
  },
  {
   "cell_type": "code",
   "execution_count": 47,
   "id": "0e5a4d40-6e5a-4f5e-bd2d-7e638aba937b",
   "metadata": {},
   "outputs": [
    {
     "name": "stdout",
     "output_type": "stream",
     "text": [
      "+----------+--------------------------------------------------------+\n",
      "|session_id|route                                                   |\n",
      "+----------+--------------------------------------------------------+\n",
      "|412       |main-digital-news-vklad-rabota-bonus                    |\n",
      "|539       |main-rabota-internet-main-internet-news-vklad           |\n",
      "|579       |main-archive-rabota-bonus-archive-tariffs-bonus-internet|\n",
      "|629       |main-internet-main-online                               |\n",
      "|709       |main-vklad-internet-main-rabota-news-rabota-main        |\n",
      "+----------+--------------------------------------------------------+\n",
      "only showing top 5 rows\n",
      "\n"
     ]
    }
   ],
   "source": [
    "df2 = spark.createDataFrame(rows, ['session_id', 'route'])\n",
    "df2.show(5, False)"
   ]
  },
  {
   "cell_type": "code",
   "execution_count": 48,
   "id": "90884eb9-65d2-48fa-acb3-e4573fa04bb5",
   "metadata": {},
   "outputs": [
    {
     "name": "stderr",
     "output_type": "stream",
     "text": [
      "[Stage 35:=================================================>        (6 + 1) / 7]\r"
     ]
    },
    {
     "name": "stdout",
     "output_type": "stream",
     "text": [
      "+----------+-----+\n",
      "|session_id|route|\n",
      "+----------+-----+\n",
      "+----------+-----+\n",
      "\n"
     ]
    },
    {
     "name": "stderr",
     "output_type": "stream",
     "text": [
      "                                                                                \r"
     ]
    }
   ],
   "source": [
    "df2[df2['session_id'] == 507].show()"
   ]
  },
  {
   "cell_type": "markdown",
   "id": "08ba37c7-a3ce-49ed-acec-14360c67a43b",
   "metadata": {},
   "source": [
    "Proof-Check"
   ]
  },
  {
   "cell_type": "code",
   "execution_count": 49,
   "id": "4d92de52-1ca9-450b-9c94-1d6f27cc0cac",
   "metadata": {},
   "outputs": [
    {
     "name": "stdout",
     "output_type": "stream",
     "text": [
      "+----------+----------+----------+---------+\n",
      "|session_id|event_type|event_page|timestamp|\n",
      "+----------+----------+----------+---------+\n",
      "+----------+----------+----------+---------+\n",
      "\n"
     ]
    }
   ],
   "source": [
    "df[df['session_id'] == 514].show(50, False)"
   ]
  },
  {
   "cell_type": "code",
   "execution_count": 50,
   "id": "a3cdf07a-bd59-454e-a946-f5b17e137597",
   "metadata": {},
   "outputs": [],
   "source": [
    "df3 = df2.groupby('route').count().orderBy('count', ascending=False).limit(30)"
   ]
  },
  {
   "cell_type": "code",
   "execution_count": 51,
   "id": "fbfc7365-eba4-4e23-b7c6-056145a25af2",
   "metadata": {},
   "outputs": [
    {
     "name": "stderr",
     "output_type": "stream",
     "text": [
      "[Stage 37:======================================================> (31 + 1) / 32]\r"
     ]
    },
    {
     "name": "stdout",
     "output_type": "stream",
     "text": [
      "+---------------------+-----+\n",
      "|route                |count|\n",
      "+---------------------+-----+\n",
      "|main                 |8177 |\n",
      "|main-archive         |1111 |\n",
      "|main-rabota          |1046 |\n",
      "|main-internet        |896  |\n",
      "|main-bonus           |868  |\n",
      "|main-news            |768  |\n",
      "|main-tariffs         |676  |\n",
      "|main-online          |587  |\n",
      "|main-vklad           |517  |\n",
      "|main-rabota-archive  |170  |\n",
      "|main-archive-rabota  |166  |\n",
      "|main-bonus-archive   |142  |\n",
      "|main-rabota-bonus    |139  |\n",
      "|main-news-rabota     |135  |\n",
      "|main-bonus-rabota    |134  |\n",
      "|main-archive-internet|130  |\n",
      "|main-rabota-news     |129  |\n",
      "|main-internet-rabota |128  |\n",
      "|main-archive-news    |126  |\n",
      "|main-rabota-internet |124  |\n",
      "|main-internet-archive|123  |\n",
      "|main-archive-bonus   |117  |\n",
      "|main-internet-bonus  |115  |\n",
      "|main-tariffs-internet|113  |\n",
      "|main-news-archive    |112  |\n",
      "|main-news-internet   |109  |\n",
      "|main-archive-tariffs |104  |\n",
      "|main-tariffs-archive |103  |\n",
      "|main-internet-news   |103  |\n",
      "|main-rabota-main     |94   |\n",
      "+---------------------+-----+\n",
      "\n"
     ]
    },
    {
     "name": "stderr",
     "output_type": "stream",
     "text": [
      "                                                                                \r"
     ]
    }
   ],
   "source": [
    "df3.show(100, truncate=False)"
   ]
  },
  {
   "cell_type": "code",
   "execution_count": 52,
   "id": "938ba096-a729-46b1-a975-2340f78944f9",
   "metadata": {},
   "outputs": [
    {
     "name": "stderr",
     "output_type": "stream",
     "text": [
      "[Stage 40:======================================================> (31 + 1) / 32]\r"
     ]
    },
    {
     "name": "stdout",
     "output_type": "stream",
     "text": [
      "Row(route='main', count=8177)\n"
     ]
    },
    {
     "name": "stderr",
     "output_type": "stream",
     "text": [
      "                                                                                \r"
     ]
    }
   ],
   "source": [
    "for row in df3.collect():\n",
    "    print(row)\n",
    "    break"
   ]
  },
  {
   "cell_type": "code",
   "execution_count": 53,
   "id": "eb4865cf-0828-4822-a45d-7558c552b7e0",
   "metadata": {},
   "outputs": [
    {
     "name": "stderr",
     "output_type": "stream",
     "text": [
      "[Stage 43:======================================================> (31 + 1) / 32]\r"
     ]
    },
    {
     "name": "stdout",
     "output_type": "stream",
     "text": [
      "                 main 8177\n",
      "         main-archive 1111\n",
      "          main-rabota 1046\n",
      "        main-internet  896\n",
      "           main-bonus  868\n",
      "            main-news  768\n",
      "         main-tariffs  676\n",
      "          main-online  587\n",
      "           main-vklad  517\n",
      "  main-rabota-archive  170\n",
      "  main-archive-rabota  166\n",
      "   main-bonus-archive  142\n",
      "    main-rabota-bonus  139\n",
      "     main-news-rabota  135\n",
      "    main-bonus-rabota  134\n",
      "main-archive-internet  130\n",
      "     main-rabota-news  129\n",
      " main-internet-rabota  128\n",
      "    main-archive-news  126\n",
      " main-rabota-internet  124\n",
      "main-internet-archive  123\n",
      "   main-archive-bonus  117\n",
      "  main-internet-bonus  115\n",
      "main-tariffs-internet  113\n",
      "    main-news-archive  112\n",
      "   main-news-internet  109\n",
      " main-archive-tariffs  104\n",
      "   main-internet-news  103\n",
      " main-tariffs-archive  103\n",
      "     main-rabota-main   94\n"
     ]
    },
    {
     "name": "stderr",
     "output_type": "stream",
     "text": [
      "                                                                                \r"
     ]
    }
   ],
   "source": [
    "print(df3.limit(30).toPandas().to_string(index=False, header=False))"
   ]
  },
  {
   "cell_type": "code",
   "execution_count": null,
   "id": "d2f3328e-45f8-41e7-b052-f0f71e12a30c",
   "metadata": {},
   "outputs": [],
   "source": []
  }
 ],
 "metadata": {
  "kernelspec": {
   "display_name": "Python 3 (ipykernel)",
   "language": "python",
   "name": "python3"
  },
  "language_info": {
   "codemirror_mode": {
    "name": "ipython",
    "version": 3
   },
   "file_extension": ".py",
   "mimetype": "text/x-python",
   "name": "python",
   "nbconvert_exporter": "python",
   "pygments_lexer": "ipython3",
   "version": "3.10.9"
  }
 },
 "nbformat": 4,
 "nbformat_minor": 5
}
